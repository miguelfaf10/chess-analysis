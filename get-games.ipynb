{
 "cells": [
  {
   "cell_type": "code",
   "execution_count": 1,
   "id": "df24d44c",
   "metadata": {},
   "outputs": [],
   "source": [
    "import io\n",
    "from datetime import datetime, timedelta\n",
    "from pydantic import BaseModel\n",
    "from time import sleep"
   ]
  },
  {
   "cell_type": "code",
   "execution_count": 2,
   "id": "574f9a50",
   "metadata": {},
   "outputs": [],
   "source": [
    "from IPython.display import clear_output\n",
    "import matplotlib.pyplot as plt"
   ]
  },
  {
   "cell_type": "code",
   "execution_count": 3,
   "id": "89fa5464",
   "metadata": {},
   "outputs": [],
   "source": [
    "import berserk\n",
    "import chess, chess.pgn"
   ]
  },
  {
   "cell_type": "markdown",
   "id": "8f790c8c",
   "metadata": {},
   "source": [
    "## Functions"
   ]
  },
  {
   "cell_type": "code",
   "execution_count": 4,
   "id": "57493125",
   "metadata": {},
   "outputs": [],
   "source": [
    "# Read PGN string into python-chess object\n",
    "def read_pgn(game_str):\n",
    "    pgn = io.StringIO(game_str)\n",
    "    game = chess.pgn.read_game(pgn)\n",
    "    return game"
   ]
  },
  {
   "cell_type": "code",
   "execution_count": 46,
   "id": "dfc77f28",
   "metadata": {},
   "outputs": [],
   "source": [
    "# Read python-chess object, play and display it in them on a board.\n",
    "def play_game(game):\n",
    "    board = game.board()\n",
    "    for move in game.mainline_moves():\n",
    "        clear_output(wait=True)\n",
    "        print(board)\n",
    "        board.push(move)\n",
    "        sleep(1)"
   ]
  },
  {
   "cell_type": "code",
   "execution_count": 47,
   "id": "00fe6b60",
   "metadata": {},
   "outputs": [],
   "source": [
    "# Function that returns list of position evaluations for entire game.\n",
    "# Scores are in centipawn and from White perspective\n",
    "# If value is None it's because engine saw checkmate in #n\n",
    "def read_game_eval(game_node):\n",
    "    \n",
    "    if game_node.is_end():\n",
    "        print(game_node.eval())\n",
    "        return [None]\n",
    "    else:\n",
    "        if game_node.eval()!=None:\n",
    "            return [game_node.eval().white().score()] + read_game_eval(game_node[0])\n",
    "        else:\n",
    "            return read_game_eval(game_node[0])   "
   ]
  },
  {
   "cell_type": "markdown",
   "id": "ddc8fcbc",
   "metadata": {},
   "source": [
    "## API session setup using berserk"
   ]
  },
  {
   "cell_type": "code",
   "execution_count": 48,
   "id": "133b91fa",
   "metadata": {},
   "outputs": [],
   "source": [
    "with open('token.txt') as f:\n",
    "    API_TOKEN = f.readline()[:-1]"
   ]
  },
  {
   "cell_type": "code",
   "execution_count": 8,
   "id": "27bfff30",
   "metadata": {},
   "outputs": [],
   "source": [
    "session = berserk.TokenSession(API_TOKEN)\n",
    "client = berserk.Client(session=session)"
   ]
  },
  {
   "cell_type": "markdown",
   "id": "d74ab50d",
   "metadata": {},
   "source": [
    "## API game request settings"
   ]
  },
  {
   "cell_type": "code",
   "execution_count": 38,
   "id": "8a6a75b8",
   "metadata": {},
   "outputs": [],
   "source": [
    "last_Xdays = datetime.now()-timedelta(days=100)"
   ]
  },
  {
   "cell_type": "code",
   "execution_count": 39,
   "id": "89946666",
   "metadata": {},
   "outputs": [],
   "source": [
    "user = 'miguel0f'\n",
    "since = int(berserk.utils.to_millis(last_Xdays))\n",
    "until = int(berserk.utils.to_millis(datetime.now()))\n",
    "color = 'black'\n",
    "as_pgn = True\n",
    "analysed = True\n",
    "evals = True\n",
    "opening = True"
   ]
  },
  {
   "cell_type": "code",
   "execution_count": 40,
   "id": "54dfb358",
   "metadata": {},
   "outputs": [],
   "source": [
    "games_gen = client.games.export_by_player('miguel0f',\n",
    "                                    since=since,\n",
    "                                    color = color,\n",
    "                                    as_pgn=as_pgn,\n",
    "                                    analysed=analysed,\n",
    "                                    evals=evals,\n",
    "                                    opening=opening)"
   ]
  },
  {
   "cell_type": "code",
   "execution_count": 41,
   "id": "64427415",
   "metadata": {},
   "outputs": [],
   "source": [
    "games_str = {}\n",
    "for k,game in enumerate(games_gen):\n",
    "    games_str[k] = game"
   ]
  },
  {
   "cell_type": "code",
   "execution_count": 42,
   "id": "763cdc4a",
   "metadata": {},
   "outputs": [],
   "source": [
    "opening_str = {}\n",
    "for idx in games_str:\n",
    "    game = read_pgn(games_str[idx])\n",
    "    opening_str[idx] = game.headers['Opening']"
   ]
  },
  {
   "cell_type": "code",
   "execution_count": 43,
   "id": "a9332d9b",
   "metadata": {},
   "outputs": [
    {
     "data": {
      "text/plain": [
       "{0: 'Elephant Gambit: Paulsen Countergambit',\n",
       " 1: 'Elephant Gambit: Paulsen Countergambit',\n",
       " 2: 'Elephant Gambit: Paulsen Countergambit',\n",
       " 3: 'Elephant Gambit: Paulsen Countergambit',\n",
       " 4: 'Englund Gambit Complex: Hartlaub-Charlick Gambit',\n",
       " 5: 'Elephant Gambit: Paulsen Countergambit',\n",
       " 6: \"King's Gambit Declined: Falkbeer Countergambit Accepted\",\n",
       " 7: 'Elephant Gambit: Paulsen Countergambit',\n",
       " 8: 'Englund Gambit Complex: Hartlaub-Charlick Gambit',\n",
       " 9: 'Elephant Gambit: Paulsen Countergambit',\n",
       " 10: 'Elephant Gambit: Paulsen Countergambit',\n",
       " 11: \"King's Pawn Game: Leonardis Variation\",\n",
       " 12: \"Bishop's Opening: Philidor Counterattack\",\n",
       " 13: 'Danish Gambit Declined: Sorensen Defense',\n",
       " 14: 'Englund Gambit Complex: Hartlaub-Charlick Gambit',\n",
       " 15: 'Elephant Gambit: Paulsen Countergambit',\n",
       " 16: 'Portuguese Opening',\n",
       " 17: 'Elephant Gambit: Paulsen Countergambit',\n",
       " 18: \"English Opening: King's English Variation, Four Knights Variation, Fianchetto Line\",\n",
       " 19: 'Englund Gambit Complex: Hartlaub-Charlick Gambit',\n",
       " 20: \"Queen's Pawn Game: Chigorin Variation\",\n",
       " 21: 'Center Game: Kieseritzky Variation',\n",
       " 22: 'Englund Gambit Declined: Reversed French',\n",
       " 23: 'Vienna Game: Stanley Variation',\n",
       " 24: 'Englund Gambit Complex: Hartlaub-Charlick Gambit',\n",
       " 25: 'Elephant Gambit',\n",
       " 26: 'Elephant Gambit: Paulsen Countergambit',\n",
       " 27: 'Englund Gambit Declined: Reversed French',\n",
       " 28: 'Elephant Gambit: Paulsen Countergambit',\n",
       " 29: 'Elephant Gambit: Paulsen Countergambit',\n",
       " 30: 'Elephant Gambit: Paulsen Countergambit',\n",
       " 31: 'Elephant Gambit',\n",
       " 32: 'Englund Gambit Complex: Hartlaub-Charlick Gambit',\n",
       " 33: \"Bishop's Opening: Philidor Counterattack\",\n",
       " 34: 'Englund Gambit Complex: Hartlaub-Charlick Gambit',\n",
       " 35: 'Danish Gambit',\n",
       " 36: 'Elephant Gambit',\n",
       " 37: 'Elephant Gambit: Paulsen Countergambit',\n",
       " 38: 'Englund Gambit Complex: Hartlaub-Charlick Gambit',\n",
       " 39: 'Sicilian Defense: Closed, Traditional',\n",
       " 40: 'Benko Gambit: Zaitsev System',\n",
       " 41: 'Indian Defense',\n",
       " 42: 'Elephant Gambit: Paulsen Countergambit',\n",
       " 43: 'Englund Gambit Complex Declined',\n",
       " 44: 'Vienna Game: Stanley Variation',\n",
       " 45: 'Elephant Gambit',\n",
       " 46: 'Elephant Gambit',\n",
       " 47: \"Queen's Pawn Game: Symmetrical Variation\",\n",
       " 48: 'Elephant Gambit: Paulsen Countergambit',\n",
       " 49: 'Elephant Gambit: Paulsen Countergambit',\n",
       " 50: 'Elephant Gambit: Paulsen Countergambit',\n",
       " 51: 'Elephant Gambit: Paulsen Countergambit',\n",
       " 52: 'Elephant Gambit',\n",
       " 53: \"King's Gambit Accepted: MacLeod Defense\",\n",
       " 54: 'Elephant Gambit',\n",
       " 55: 'English Opening: Symmetrical Variation, Anti-Benoni Variation',\n",
       " 56: 'Indian Defense: London System',\n",
       " 57: 'Indian Defense',\n",
       " 58: 'Portuguese Opening',\n",
       " 59: 'Indian Defense: Spielmann-Indian',\n",
       " 60: 'Indian Defense',\n",
       " 61: 'Elephant Gambit',\n",
       " 62: 'Elephant Gambit: Paulsen Countergambit',\n",
       " 63: 'Elephant Gambit: Paulsen Countergambit',\n",
       " 64: 'English Opening: Symmetrical Variation, Anti-Benoni Variation',\n",
       " 65: 'Elephant Gambit: Paulsen Countergambit',\n",
       " 66: 'Elephant Gambit',\n",
       " 67: 'English Opening: Symmetrical Variation, Anti-Benoni Variation',\n",
       " 68: 'Elephant Gambit: Paulsen Countergambit',\n",
       " 69: 'Elephant Gambit: Paulsen Countergambit',\n",
       " 70: 'Elephant Gambit: Paulsen Countergambit',\n",
       " 71: 'Elephant Gambit',\n",
       " 72: 'Elephant Gambit: Paulsen Countergambit',\n",
       " 73: 'Indian Defense: Pawn Push Variation',\n",
       " 74: \"Queen's Gambit Declined: Pseudo-Tarrasch Variation\",\n",
       " 75: 'Elephant Gambit: Paulsen Countergambit',\n",
       " 76: 'Elephant Gambit: Paulsen Countergambit',\n",
       " 77: 'Elephant Gambit: Paulsen Countergambit',\n",
       " 78: 'Elephant Gambit',\n",
       " 79: 'Indian Defense',\n",
       " 80: 'Elephant Gambit: Paulsen Countergambit',\n",
       " 81: 'Nimzowitsch Defense',\n",
       " 82: 'Elephant Gambit',\n",
       " 83: 'English Opening: Symmetrical Variation, Normal Variation',\n",
       " 84: 'Elephant Gambit: Paulsen Countergambit',\n",
       " 85: \"King's Gambit Declined: Queen's Knight Defense\",\n",
       " 86: \"King's Pawn Game: Macleod Attack\",\n",
       " 87: 'Elephant Gambit: Paulsen Countergambit',\n",
       " 88: 'Elephant Gambit: Paulsen Countergambit',\n",
       " 89: 'Elephant Gambit',\n",
       " 90: 'Elephant Gambit: Paulsen Countergambit',\n",
       " 91: \"King's Pawn Game: Mengarini's Opening\",\n",
       " 92: 'Danish Gambit',\n",
       " 93: 'Englund Gambit Complex: Hartlaub-Charlick Gambit',\n",
       " 94: 'Englund Gambit Complex: Hartlaub-Charlick Gambit',\n",
       " 95: 'Elephant Gambit: Paulsen Countergambit'}"
      ]
     },
     "execution_count": 43,
     "metadata": {},
     "output_type": "execute_result"
    }
   ],
   "source": [
    "opening_str"
   ]
  },
  {
   "cell_type": "code",
   "execution_count": 49,
   "id": "0ac2e5f6",
   "metadata": {},
   "outputs": [
    {
     "name": "stdout",
     "output_type": "stream",
     "text": [
      "r n b . k b n r\n",
      "p p . . . p p p\n",
      ". . . . . . . .\n",
      ". . . q . . B Q\n",
      ". . . p . . . .\n",
      ". . . . . . . .\n",
      "P P P . N P P P\n",
      "R N . . K . . R\n"
     ]
    },
    {
     "data": {
      "image/png": "[encoded data removed]",
      "text/plain": [
       "<Figure size 432x288 with 1 Axes>"
      ]
     },
     "metadata": {
      "needs_background": "light"
     },
     "output_type": "display_data"
    }
   ],
   "source": [
    "game = read_pgn(games_str[12])\n",
    "game_eval = read_game_eval(game)\n",
    "play_game(game)\n",
    "\n",
    "plt.figure()\n",
    "plt.plot(game_eval)\n",
    "plt.show()"
   ]
  },
  {
   "cell_type": "markdown",
   "id": "bbd41456",
   "metadata": {},
   "source": [
    "## Code snippets to look into data returned by API"
   ]
  },
  {
   "cell_type": "code",
   "execution_count": null,
   "id": "92a96362",
   "metadata": {},
   "outputs": [],
   "source": [
    "for k in range(len(a)):\n",
    "    if a[k]['players'][color]['user']['name']!='miguel0f':\n",
    "        print('ahahah')"
   ]
  },
  {
   "cell_type": "code",
   "execution_count": null,
   "id": "7c3b5e2d",
   "metadata": {},
   "outputs": [],
   "source": []
  }
 ],
 "metadata": {
  "kernelspec": {
   "display_name": "Python 3",
   "language": "python",
   "name": "python3"
  },
  "language_info": {
   "codemirror_mode": {
    "name": "ipython",
    "version": 3
   },
   "file_extension": ".py",
   "mimetype": "text/x-python",
   "name": "python",
   "nbconvert_exporter": "python",
   "pygments_lexer": "ipython3",
   "version": "3.9.4"
  },
  "toc": {
   "base_numbering": 1,
   "nav_menu": {},
   "number_sections": true,
   "sideBar": true,
   "skip_h1_title": false,
   "title_cell": "Table of Contents",
   "title_sidebar": "Contents",
   "toc_cell": false,
   "toc_position": {
    "height": "calc(100% - 180px)",
    "left": "10px",
    "top": "150px",
    "width": "165px"
   },
   "toc_section_display": true,
   "toc_window_display": true
  }
 },
 "nbformat": 4,
 "nbformat_minor": 5
}
