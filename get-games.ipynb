{
 "cells": [
  {
   "cell_type": "code",
   "execution_count": 2,
   "id": "19f2168b",
   "metadata": {},
   "outputs": [],
   "source": [
    "import io\n",
    "from datetime import datetime, timedelta\n",
    "from pydantic import BaseModel\n",
    "from time import sleep"
   ]
  },
  {
   "cell_type": "code",
   "execution_count": 41,
   "id": "fcd2de79",
   "metadata": {},
   "outputs": [],
   "source": [
    "from IPython.display import clear_output\n",
    "import matplotlib.pyplot as plt"
   ]
  },
  {
   "cell_type": "code",
   "execution_count": 17,
   "id": "3fdaf6dc",
   "metadata": {},
   "outputs": [],
   "source": [
    "import berserk\n",
    "import chess, chess.pgn"
   ]
  },
  {
   "cell_type": "markdown",
   "id": "e1e8b9b6",
   "metadata": {},
   "source": [
    "## Functions"
   ]
  },
  {
   "cell_type": "code",
   "execution_count": 21,
   "id": "4880b94b",
   "metadata": {},
   "outputs": [],
   "source": [
    "# Read PGN string into python-chess object\n",
    "def read_pgn(game_str):\n",
    "    pgn = io.StringIO(game_str)\n",
    "    game = chess.pgn.read_game(pgn)\n",
    "    return game"
   ]
  },
  {
   "cell_type": "code",
   "execution_count": 48,
   "id": "61bb78e0",
   "metadata": {},
   "outputs": [],
   "source": [
    "# Read python-chess object, play and display it in them on a board.\n",
    "def play_game(game):\n",
    "    board = game.board()\n",
    "    for move in game.mainline_moves():\n",
    "        clear_output(wait=True)\n",
    "        print(board)\n",
    "        board.push(move)\n",
    "        sleep(0.1)"
   ]
  },
  {
   "cell_type": "code",
   "execution_count": 122,
   "id": "180018c3",
   "metadata": {},
   "outputs": [],
   "source": [
    "# Function that returns list of position evaluations for entire game.\n",
    "# Scores are in centipawn and from White perspective\n",
    "# If value is None it's because engine saw checkmate in #n\n",
    "def read_game_eval(game_node):\n",
    "    \n",
    "    if game_node.is_end():\n",
    "        return [game_node.eval().white().score()]\n",
    "    else:\n",
    "        if game_node.eval()!=None:\n",
    "            return [game_node.eval().white().score()] + read_eval(game_node[0])\n",
    "        else:\n",
    "            return read_eval(game_node[0])   "
   ]
  },
  {
   "cell_type": "markdown",
   "id": "6dbce92f",
   "metadata": {},
   "source": [
    "## API session setup using berserk"
   ]
  },
  {
   "cell_type": "code",
   "execution_count": 6,
   "id": "12757437",
   "metadata": {},
   "outputs": [],
   "source": [
    "with API_TOKEN = 'lip_cdiOz262nxCW57bypc17'"
   ]
  },
  {
   "cell_type": "code",
   "execution_count": 7,
   "id": "6b762da8",
   "metadata": {},
   "outputs": [],
   "source": [
    "session = berserk.TokenSession(API_TOKEN)\n",
    "client = berserk.Client(session=session)"
   ]
  },
  {
   "cell_type": "markdown",
   "id": "3faf8b92",
   "metadata": {},
   "source": [
    "## API game request settings"
   ]
  },
  {
   "cell_type": "code",
   "execution_count": 8,
   "id": "0632d5c6",
   "metadata": {},
   "outputs": [],
   "source": [
    "last_10days = datetime.now()-timedelta(days=10)"
   ]
  },
  {
   "cell_type": "code",
   "execution_count": 9,
   "id": "27ddc9e8",
   "metadata": {},
   "outputs": [],
   "source": [
    "user = 'miguel0f'\n",
    "since = int(berserk.utils.to_millis(last_10days))\n",
    "until = int(berserk.utils.to_millis(datetime.now()))\n",
    "color = 'black'\n",
    "as_pgn = True\n",
    "analysed = True\n",
    "evals = True\n",
    "opening = True"
   ]
  },
  {
   "cell_type": "code",
   "execution_count": 10,
   "id": "3fc611db",
   "metadata": {},
   "outputs": [],
   "source": [
    "games_gen = client.games.export_by_player('miguel0f',\n",
    "                                    since=since,\n",
    "                                    color = color,\n",
    "                                    as_pgn=as_pgn,\n",
    "                                    analysed=analysed,\n",
    "                                    evals=evals,\n",
    "                                    opening=opening)"
   ]
  },
  {
   "cell_type": "code",
   "execution_count": 123,
   "id": "fbab1fe5",
   "metadata": {},
   "outputs": [
    {
     "data": {
      "image/png": "[encoded data removed]",
      "text/plain": [
       "<Figure size 432x288 with 1 Axes>"
      ]
     },
     "metadata": {
      "needs_background": "light"
     },
     "output_type": "display_data"
    }
   ],
   "source": []
  },
  {
   "cell_type": "code",
   "execution_count": 125,
   "id": "7c4dbd63",
   "metadata": {},
   "outputs": [
    {
     "name": "stdout",
     "output_type": "stream",
     "text": [
      ". . . . . . . .\n",
      ". . . . . . . .\n",
      ". . . . k . . .\n",
      ". . . . . p . K\n",
      ". . . . . P . .\n",
      ". . . . N . . P\n",
      ". . . . . . . .\n",
      ". . . . . . . .\n"
     ]
    },
    {
     "data": {
      "image/png": "[encoded data removed]",
      "text/plain": [
       "<Figure size 432x288 with 1 Axes>"
      ]
     },
     "metadata": {
      "needs_background": "light"
     },
     "output_type": "display_data"
    }
   ],
   "source": [
    "\n",
    "game = read_pgn(games_list[0])\n",
    "game_eval = read_game_eval(game)\n",
    "play_game(game)\n",
    "plt.figure()\n",
    "plt.plot(game_eval)\n",
    "plt.show()\n"
   ]
  },
  {
   "cell_type": "markdown",
   "id": "91f18056",
   "metadata": {},
   "source": [
    "## Code snippets to look into data returned by API"
   ]
  },
  {
   "cell_type": "code",
   "execution_count": 81,
   "id": "8957bc25",
   "metadata": {},
   "outputs": [
    {
     "name": "stdout",
     "output_type": "stream",
     "text": [
      "ahahah\n",
      "ahahah\n",
      "ahahah\n",
      "ahahah\n",
      "ahahah\n",
      "ahahah\n",
      "ahahah\n",
      "ahahah\n",
      "ahahah\n",
      "ahahah\n",
      "ahahah\n",
      "ahahah\n",
      "ahahah\n",
      "ahahah\n",
      "ahahah\n",
      "ahahah\n",
      "ahahah\n",
      "ahahah\n",
      "ahahah\n",
      "ahahah\n",
      "ahahah\n",
      "ahahah\n",
      "ahahah\n",
      "ahahah\n",
      "ahahah\n",
      "ahahah\n",
      "ahahah\n",
      "ahahah\n",
      "ahahah\n",
      "ahahah\n",
      "ahahah\n",
      "ahahah\n",
      "ahahah\n",
      "ahahah\n",
      "ahahah\n",
      "ahahah\n",
      "ahahah\n",
      "ahahah\n",
      "ahahah\n",
      "ahahah\n",
      "ahahah\n",
      "ahahah\n",
      "ahahah\n",
      "ahahah\n",
      "ahahah\n",
      "ahahah\n",
      "ahahah\n",
      "ahahah\n",
      "ahahah\n",
      "ahahah\n",
      "ahahah\n",
      "ahahah\n",
      "ahahah\n",
      "ahahah\n",
      "ahahah\n",
      "ahahah\n",
      "ahahah\n",
      "ahahah\n",
      "ahahah\n",
      "ahahah\n",
      "ahahah\n",
      "ahahah\n",
      "ahahah\n",
      "ahahah\n",
      "ahahah\n",
      "ahahah\n",
      "ahahah\n",
      "ahahah\n",
      "ahahah\n",
      "ahahah\n",
      "ahahah\n",
      "ahahah\n",
      "ahahah\n",
      "ahahah\n",
      "ahahah\n",
      "ahahah\n",
      "ahahah\n",
      "ahahah\n",
      "ahahah\n",
      "ahahah\n",
      "ahahah\n",
      "ahahah\n",
      "ahahah\n",
      "ahahah\n",
      "ahahah\n",
      "ahahah\n",
      "ahahah\n",
      "ahahah\n",
      "ahahah\n",
      "ahahah\n",
      "ahahah\n",
      "ahahah\n",
      "ahahah\n",
      "ahahah\n",
      "ahahah\n",
      "ahahah\n",
      "ahahah\n",
      "ahahah\n",
      "ahahah\n",
      "ahahah\n",
      "ahahah\n",
      "ahahah\n",
      "ahahah\n",
      "ahahah\n",
      "ahahah\n",
      "ahahah\n",
      "ahahah\n",
      "ahahah\n",
      "ahahah\n",
      "ahahah\n",
      "ahahah\n",
      "ahahah\n",
      "ahahah\n",
      "ahahah\n",
      "ahahah\n",
      "ahahah\n",
      "ahahah\n",
      "ahahah\n",
      "ahahah\n",
      "ahahah\n",
      "ahahah\n",
      "ahahah\n",
      "ahahah\n",
      "ahahah\n",
      "ahahah\n",
      "ahahah\n",
      "ahahah\n",
      "ahahah\n",
      "ahahah\n",
      "ahahah\n",
      "ahahah\n",
      "ahahah\n",
      "ahahah\n",
      "ahahah\n",
      "ahahah\n",
      "ahahah\n",
      "ahahah\n",
      "ahahah\n",
      "ahahah\n",
      "ahahah\n",
      "ahahah\n",
      "ahahah\n",
      "ahahah\n",
      "ahahah\n",
      "ahahah\n",
      "ahahah\n",
      "ahahah\n",
      "ahahah\n",
      "ahahah\n",
      "ahahah\n",
      "ahahah\n",
      "ahahah\n",
      "ahahah\n",
      "ahahah\n",
      "ahahah\n",
      "ahahah\n",
      "ahahah\n",
      "ahahah\n",
      "ahahah\n",
      "ahahah\n",
      "ahahah\n",
      "ahahah\n",
      "ahahah\n",
      "ahahah\n",
      "ahahah\n",
      "ahahah\n",
      "ahahah\n",
      "ahahah\n",
      "ahahah\n",
      "ahahah\n",
      "ahahah\n",
      "ahahah\n",
      "ahahah\n",
      "ahahah\n",
      "ahahah\n",
      "ahahah\n",
      "ahahah\n",
      "ahahah\n",
      "ahahah\n",
      "ahahah\n",
      "ahahah\n",
      "ahahah\n",
      "ahahah\n",
      "ahahah\n",
      "ahahah\n",
      "ahahah\n",
      "ahahah\n",
      "ahahah\n",
      "ahahah\n",
      "ahahah\n",
      "ahahah\n",
      "ahahah\n",
      "ahahah\n",
      "ahahah\n",
      "ahahah\n",
      "ahahah\n",
      "ahahah\n",
      "ahahah\n",
      "ahahah\n",
      "ahahah\n",
      "ahahah\n",
      "ahahah\n",
      "ahahah\n"
     ]
    },
    {
     "ename": "KeyError",
     "evalue": "'user'",
     "output_type": "error",
     "traceback": [
      "\u001b[0;31m---------------------------------------------------------------------------\u001b[0m",
      "\u001b[0;31mKeyError\u001b[0m                                  Traceback (most recent call last)",
      "\u001b[0;32m<ipython-input-81-c9dc2991bcdb>\u001b[0m in \u001b[0;36m<module>\u001b[0;34m\u001b[0m\n\u001b[1;32m      1\u001b[0m \u001b[0;32mfor\u001b[0m \u001b[0mk\u001b[0m \u001b[0;32min\u001b[0m \u001b[0mrange\u001b[0m\u001b[0;34m(\u001b[0m\u001b[0mlen\u001b[0m\u001b[0;34m(\u001b[0m\u001b[0ma\u001b[0m\u001b[0;34m)\u001b[0m\u001b[0;34m)\u001b[0m\u001b[0;34m:\u001b[0m\u001b[0;34m\u001b[0m\u001b[0;34m\u001b[0m\u001b[0m\n\u001b[0;32m----> 2\u001b[0;31m     \u001b[0;32mif\u001b[0m \u001b[0ma\u001b[0m\u001b[0;34m[\u001b[0m\u001b[0mk\u001b[0m\u001b[0;34m]\u001b[0m\u001b[0;34m[\u001b[0m\u001b[0;34m'players'\u001b[0m\u001b[0;34m]\u001b[0m\u001b[0;34m[\u001b[0m\u001b[0mcolor\u001b[0m\u001b[0;34m]\u001b[0m\u001b[0;34m[\u001b[0m\u001b[0;34m'user'\u001b[0m\u001b[0;34m]\u001b[0m\u001b[0;34m[\u001b[0m\u001b[0;34m'name'\u001b[0m\u001b[0;34m]\u001b[0m\u001b[0;34m!=\u001b[0m\u001b[0;34m'miguel0f'\u001b[0m\u001b[0;34m:\u001b[0m\u001b[0;34m\u001b[0m\u001b[0;34m\u001b[0m\u001b[0m\n\u001b[0m\u001b[1;32m      3\u001b[0m         \u001b[0mprint\u001b[0m\u001b[0;34m(\u001b[0m\u001b[0;34m'ahahah'\u001b[0m\u001b[0;34m)\u001b[0m\u001b[0;34m\u001b[0m\u001b[0;34m\u001b[0m\u001b[0m\n",
      "\u001b[0;31mKeyError\u001b[0m: 'user'"
     ]
    }
   ],
   "source": [
    "for k in range(len(a)):\n",
    "    if a[k]['players'][color]['user']['name']!='miguel0f':\n",
    "        print('ahahah')"
   ]
  }
 ],
 "metadata": {
  "kernelspec": {
   "display_name": "Python 3",
   "language": "python",
   "name": "python3"
  },
  "language_info": {
   "codemirror_mode": {
    "name": "ipython",
    "version": 3
   },
   "file_extension": ".py",
   "mimetype": "text/x-python",
   "name": "python",
   "nbconvert_exporter": "python",
   "pygments_lexer": "ipython3",
   "version": "3.9.4"
  },
  "toc": {
   "base_numbering": 1,
   "nav_menu": {},
   "number_sections": true,
   "sideBar": true,
   "skip_h1_title": false,
   "title_cell": "Table of Contents",
   "title_sidebar": "Contents",
   "toc_cell": false,
   "toc_position": {
    "height": "calc(100% - 180px)",
    "left": "10px",
    "top": "150px",
    "width": "165px"
   },
   "toc_section_display": true,
   "toc_window_display": true
  }
 },
 "nbformat": 4,
 "nbformat_minor": 5
}
