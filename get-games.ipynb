{
 "cells": [
  {
   "cell_type": "code",
   "execution_count": 1,
   "id": "df24d44c",
   "metadata": {},
   "outputs": [],
   "source": [
    "import io\n",
    "from datetime import datetime, timedelta\n",
    "from pydantic import BaseModel\n",
    "from time import sleep"
   ]
  },
  {
   "cell_type": "code",
   "execution_count": 2,
   "id": "574f9a50",
   "metadata": {},
   "outputs": [],
   "source": [
    "from IPython.display import clear_output\n",
    "import matplotlib.pyplot as plt\n",
    "import pandas as pd"
   ]
  },
  {
   "cell_type": "code",
   "execution_count": 3,
   "id": "89fa5464",
   "metadata": {},
   "outputs": [],
   "source": [
    "import berserk\n",
    "import chess, chess.pgn"
   ]
  },
  {
   "cell_type": "code",
   "execution_count": 4,
   "id": "29f32b9d",
   "metadata": {},
   "outputs": [],
   "source": [
    "from dash import Dash, html, dcc"
   ]
  },
  {
   "cell_type": "code",
   "execution_count": 50,
   "id": "9c2f761d",
   "metadata": {},
   "outputs": [],
   "source": [
    "from __future__ import annotations\n",
    "from typing import List, Optional\n",
    "from pydantic import BaseModel\n",
    "\n",
    "class User(BaseModel):\n",
    "    name: str\n",
    "    id: str\n",
    "\n",
    "class GlobalAnalysis(BaseModel):\n",
    "    inaccuracy: int\n",
    "    mistake: int\n",
    "    blunder: int\n",
    "    acpl: int\n",
    "\n",
    "class Player(BaseModel):\n",
    "    user: User\n",
    "    rating: int\n",
    "    ratingDiff: Optional[int] = 0\n",
    "    analysis: Optional[GlobalAnalysis] = None\n",
    "\n",
    "class Players(BaseModel):\n",
    "    white: Player\n",
    "    black: Player\n",
    "\n",
    "class Opening(BaseModel):\n",
    "    eco: str\n",
    "    name: str\n",
    "    ply: int\n",
    "        \n",
    "class Judgment(BaseModel):\n",
    "    name: str\n",
    "    comment: str\n",
    "\n",
    "class MoveAnalysis(BaseModel):\n",
    "    mate: Optional[int]\n",
    "    eval: Optional[int]\n",
    "    best: Optional[str] = None\n",
    "    variation: Optional[str] = None\n",
    "    judgment: Optional[Judgment] = None\n",
    "\n",
    "class Clock(BaseModel):\n",
    "    initial: int\n",
    "    increment: int\n",
    "    totalTime: int\n",
    "\n",
    "class GameModel(BaseModel):\n",
    "    id: str\n",
    "    rated: bool\n",
    "    variant: str\n",
    "    speed: str\n",
    "    perf: str\n",
    "    createdAt: datetime\n",
    "    lastMoveAt: datetime\n",
    "    status: str\n",
    "    players: Players\n",
    "    winner: Optional[str] = 'draw'\n",
    "    opening: Optional[Opening] = None\n",
    "    moves: str\n",
    "    analysis: Optional[List[MoveAnalysis]] = None\n",
    "    clock: Clock"
   ]
  },
  {
   "cell_type": "markdown",
   "id": "8f790c8c",
   "metadata": {},
   "source": [
    "## Functions"
   ]
  },
  {
   "cell_type": "code",
   "execution_count": 51,
   "id": "57493125",
   "metadata": {},
   "outputs": [],
   "source": [
    "# Read PGN string into python-chess object\n",
    "def read_pgn(game_str):\n",
    "    pgn = io.StringIO(game_str)\n",
    "    game = chess.pgn.read_game(pgn)\n",
    "    return game"
   ]
  },
  {
   "cell_type": "code",
   "execution_count": 52,
   "id": "dfc77f28",
   "metadata": {},
   "outputs": [],
   "source": [
    "# Read python-chess object, play and display it in them on a board.\n",
    "def play_game(game):\n",
    "    board = game.board()\n",
    "    for move in game.mainline_moves():\n",
    "        clear_output(wait=True)\n",
    "        print(board)\n",
    "        board.push(move)\n",
    "        sleep(1)"
   ]
  },
  {
   "cell_type": "code",
   "execution_count": 53,
   "id": "00fe6b60",
   "metadata": {},
   "outputs": [],
   "source": [
    "# Function that returns list of position evaluations for entire game.\n",
    "# Scores are in centipawn and from White perspective\n",
    "# If value is None it's because engine saw checkmate in #n\n",
    "def read_evals(game):\n",
    "    \n",
    "    eval_lst = []\n",
    "    for node in game.mainline():\n",
    "        if node.eval() != None:\n",
    "            eval_lst.append(node.eval().white().score())\n",
    "\n",
    "    return eval_lst\n",
    "\n",
    "def read_moves(game):\n",
    "    \n",
    "    move_lst = [str(node.san()) for node in game.mainline()]\n",
    "    return(move_lst)\n",
    "\n",
    "def read_game_eval_recursive(game_node):\n",
    "    \n",
    "    if game_node.is_end():\n",
    "        print(game_node.eval())\n",
    "        return [None]\n",
    "    else:\n",
    "        if game_node.eval()!=None:\n",
    "            return [game_node.eval().white().score()] + read_game_eval(game_node[0])\n",
    "        else:\n",
    "            return read_game_eval(game_node[0])   "
   ]
  },
  {
   "cell_type": "code",
   "execution_count": 56,
   "id": "01b5f8e5",
   "metadata": {},
   "outputs": [],
   "source": [
    "class lichess_communication:\n",
    "    \n",
    "    lichess_id = None\n",
    "    API_TOKEN = None\n",
    "    client = None\n",
    "    get_opening = True\n",
    "    get_evals = True\n",
    "    \n",
    "    games_lst = []\n",
    "\n",
    "    def __init__(self, user) -> None:\n",
    "        \n",
    "        # Initialize token\n",
    "        with open('conf/token.txt') as f:\n",
    "            self.API_TOKEN = f.readline()[:-1]\n",
    "        \n",
    "        # Initialize lichess client\n",
    "        self.lichess_id = user\n",
    "        session = berserk.TokenSession(self.API_TOKEN)\n",
    "        self.client = berserk.Client(session=session)\n",
    "    \n",
    "    def fetch_games_by_dates(self, since, until):\n",
    "    \n",
    "        games_gen = self.client.games.export_by_player('miguel0f',\n",
    "                                                    since=since,\n",
    "                                                    until=until,\n",
    "                                                    evals=self.get_evals,\n",
    "                                                    opening=self.get_opening)\n",
    "        \n",
    "        self.games_lst = [GameModel(**game) for game in games_gen] \n",
    "\n",
    "    \n",
    "        #for game in games_gen:\n",
    "        #    try:\n",
    "        #        self.games_lst.append(GameModel(**game))\n",
    "        #    except:\n",
    "        #        print(game)\n",
    "            \n",
    "        \n",
    "    def get_games_info(self):\n",
    "        \n",
    "        if self.games_lst == None:\n",
    "            print('No games have been fetched')\n",
    "            return False\n",
    "        else:\n",
    "            print(f'Fetched {len(self.games_lst)} games')\n",
    "            print(f'Last game from  : {self.games_lst[0][\"createdAt\"]}')\n",
    "            print(f'First game from : {self.games_lst[-1][\"createdAt\"]}')"
   ]
  },
  {
   "cell_type": "markdown",
   "id": "d74ab50d",
   "metadata": {},
   "source": [
    "## API game request settings"
   ]
  },
  {
   "cell_type": "code",
   "execution_count": 57,
   "id": "c1864006",
   "metadata": {},
   "outputs": [],
   "source": [
    "last_Xdays = datetime.now()-timedelta(days=200)\n",
    "since = int(berserk.utils.to_millis(last_Xdays))\n",
    "until = int(berserk.utils.to_millis(datetime.now()))\n",
    "\n",
    "lichess_comm = lichess_communication('miguel0f')\n",
    "games_lst = lichess_comm.fetch_games_by_dates(since,until)"
   ]
  },
  {
   "cell_type": "code",
   "execution_count": 60,
   "id": "f945b941",
   "metadata": {},
   "outputs": [
    {
     "data": {
      "text/plain": [
       "[MoveAnalysis(mate=None, eval=33, best=None, variation=None, judgment=None),\n",
       " MoveAnalysis(mate=None, eval=12, best=None, variation=None, judgment=None),\n",
       " MoveAnalysis(mate=None, eval=19, best=None, variation=None, judgment=None),\n",
       " MoveAnalysis(mate=None, eval=123, best='b8c6', variation='Nc6 Bb5 Nf6 d3 Bc5 c3 O-O O-O d5 Nbd2', judgment=Judgment(name='Inaccuracy', comment='Inaccuracy. Nc6 was best.')),\n",
       " MoveAnalysis(mate=None, eval=130, best=None, variation=None, judgment=None),\n",
       " MoveAnalysis(mate=None, eval=140, best=None, variation=None, judgment=None),\n",
       " MoveAnalysis(mate=None, eval=0, best='d1e2', variation='Qe2 Nf6 Nc3 Be7 Nxe4 O-O Nxf6+ Bxf6 d4 Qxd5', judgment=Judgment(name='Mistake', comment='Mistake. Qe2 was best.')),\n",
       " MoveAnalysis(mate=None, eval=5, best=None, variation=None, judgment=None),\n",
       " MoveAnalysis(mate=None, eval=13, best=None, variation=None, judgment=None),\n",
       " MoveAnalysis(mate=None, eval=35, best=None, variation=None, judgment=None),\n",
       " MoveAnalysis(mate=None, eval=9, best=None, variation=None, judgment=None),\n",
       " MoveAnalysis(mate=None, eval=54, best=None, variation=None, judgment=None),\n",
       " MoveAnalysis(mate=None, eval=36, best=None, variation=None, judgment=None),\n",
       " MoveAnalysis(mate=None, eval=23, best=None, variation=None, judgment=None),\n",
       " MoveAnalysis(mate=None, eval=17, best=None, variation=None, judgment=None),\n",
       " MoveAnalysis(mate=None, eval=16, best=None, variation=None, judgment=None),\n",
       " MoveAnalysis(mate=None, eval=10, best=None, variation=None, judgment=None),\n",
       " MoveAnalysis(mate=None, eval=202, best='b4c3', variation='Bxc3+ bxc3 Qh5 Bd3 Nf6 Rb1 O-O Rb5 Nd5 O-O c6 Ra5 Bg4 c4', judgment=Judgment(name='Blunder', comment='Blunder. Bxc3+ was best.')),\n",
       " MoveAnalysis(mate=None, eval=41, best='c2e4', variation='Qe4+ Be7', judgment=Judgment(name='Mistake', comment='Mistake. Qe4+ was best.')),\n",
       " MoveAnalysis(mate=None, eval=130, best='g8e7', variation='Ne7 O-O', judgment=Judgment(name='Inaccuracy', comment='Inaccuracy. Ne7 was best.')),\n",
       " MoveAnalysis(mate=None, eval=10, best='e1a1', variation='O-O-O Nc6 Ng5 Bg4 f3 Bd7 g4 Qh6 a3 Ba5 Kb1 Bxc3 Qxc3 Qh4', judgment=Judgment(name='Mistake', comment='Mistake. O-O-O was best.')),\n",
       " MoveAnalysis(mate=None, eval=146, best='h5a5', variation='Qa5', judgment=Judgment(name='Mistake', comment='Mistake. Qa5 was best.')),\n",
       " MoveAnalysis(mate=None, eval=2, best='c2a4', variation='Qa4+', judgment=Judgment(name='Mistake', comment='Mistake. Qa4+ was best.')),\n",
       " MoveAnalysis(mate=None, eval=-5, best=None, variation=None, judgment=None),\n",
       " MoveAnalysis(mate=None, eval=-68, best='f1e1', variation='Rfe1 Ng4', judgment=Judgment(name='Inaccuracy', comment='Inaccuracy. Rfe1 was best.')),\n",
       " MoveAnalysis(mate=None, eval=18, best='f6g4', variation='Ng4 Bxg4 Bxg4 Nce2 Re8 h3 Bh5 Bf4 Qe7 g4 Bg6 Qxc7 Qxc7 Bxc7', judgment=Judgment(name='Inaccuracy', comment='Inaccuracy. Ng4 was best.')),\n",
       " MoveAnalysis(mate=None, eval=16, best=None, variation=None, judgment=None),\n",
       " MoveAnalysis(mate=None, eval=65, best=None, variation=None, judgment=None),\n",
       " MoveAnalysis(mate=None, eval=87, best=None, variation=None, judgment=None),\n",
       " MoveAnalysis(mate=None, eval=500, best='c8f5', variation='Bf5 Qc1', judgment=Judgment(name='Blunder', comment='Blunder. Bf5 was best.')),\n",
       " MoveAnalysis(mate=None, eval=520, best=None, variation=None, judgment=None),\n",
       " MoveAnalysis(mate=None, eval=502, best=None, variation=None, judgment=None),\n",
       " MoveAnalysis(mate=None, eval=606, best=None, variation=None, judgment=None),\n",
       " MoveAnalysis(mate=None, eval=907, best='c8f5', variation='Bf5 Qc4 Qf4 Bxf6 Qxc4 Bxc4 gxf6 Nxc7 Nc6 Nxa8 Rxa8 f4 Kg7 Rf3', judgment=Judgment(name='Inaccuracy', comment='Inaccuracy. Bf5 was best.')),\n",
       " MoveAnalysis(mate=None, eval=621, best='c2e4', variation='Qxe4 Nxe4 Nxc7 Be6 Nxa8 Rc8 Bxa7 Nc6 Nb6 Rf8 Bf3 f5 Nd7 Bxd7', judgment=Judgment(name='Inaccuracy', comment='Inaccuracy. Qxe4 was best.')),\n",
       " MoveAnalysis(mate=None, eval=716, best=None, variation=None, judgment=None),\n",
       " MoveAnalysis(mate=None, eval=762, best=None, variation=None, judgment=None),\n",
       " MoveAnalysis(mate=None, eval=738, best=None, variation=None, judgment=None),\n",
       " MoveAnalysis(mate=None, eval=739, best=None, variation=None, judgment=None)]"
      ]
     },
     "execution_count": 60,
     "metadata": {},
     "output_type": "execute_result"
    }
   ],
   "source": [
    "lichess_comm.games_lst[0].analysis"
   ]
  },
  {
   "cell_type": "code",
   "execution_count": null,
   "id": "93d6a112",
   "metadata": {},
   "outputs": [],
   "source": [
    "lichess_comm.get_games_info()"
   ]
  },
  {
   "cell_type": "code",
   "execution_count": null,
   "id": "e50a32c5",
   "metadata": {},
   "outputs": [],
   "source": [
    "lichess_comm.games_lst[0]"
   ]
  },
  {
   "cell_type": "code",
   "execution_count": null,
   "id": "4afdd299",
   "metadata": {},
   "outputs": [],
   "source": [
    "games_df = {'lichess_id': [],\n",
    "            'opening': [],\n",
    "            'color':    [],\n",
    "            'result':  [],\n",
    "            'time':    [],\n",
    "            'moves':   [],\n",
    "            'evals':    [],\n",
    "           'oponent': []}\n",
    "\n",
    "for game in games_lst:   \n",
    "    \n",
    "    game_pgn = read_pgn(game)\n",
    "    \n",
    "    if game_pgn==None:\n",
    "        break\n",
    "    \n",
    "    games_df['lichess_id'].append(game_pgn.headers['Site'][20:])\n",
    "    \n",
    "    games_df['opening'].append(game_pgn.headers['Opening'])\n",
    "    games_df['color'].append('white' if game_pgn.headers['White']==user_lichess else 'black')\n",
    "    \n",
    "    if  game_pgn.headers['Result']=='1/2-1/2':\n",
    "        games_df['result'].append('draw')\n",
    "    elif game_pgn.headers['Result']=='1-0' and game_pgn.headers['White']==user_lichess:\n",
    "        games_df['result'].append('win')\n",
    "    elif game_pgn.headers['Result']=='0-1' and game_pgn.headers['Black']==user_lichess:\n",
    "        games_df['result'].append('win')\n",
    "    else:\n",
    "        games_df['result'].append('loss')\n",
    "    \n",
    "    games_df['time'].append(game_pgn.headers['TimeControl'])\n",
    "    \n",
    "    games_df['moves'].append(read_moves(game_pgn))\n",
    "    games_df['evals'].append(read_evals(game_pgn))\n",
    "    \n",
    "    if game_pgn.headers['White']==user_lichess:\n",
    "        games_df['oponent'].append(game_pgn.headers['Black'])\n",
    "    else:\n",
    "        games_df['oponent'].append(game_pgn.headers['White'])\n",
    "    \n",
    "games_df = pd.DataFrame.from_dict(games_df, orient='columns')"
   ]
  },
  {
   "cell_type": "code",
   "execution_count": null,
   "id": "9e65a92e",
   "metadata": {},
   "outputs": [],
   "source": [
    "games_df['result'].value_counts()"
   ]
  },
  {
   "cell_type": "code",
   "execution_count": null,
   "id": "80123e23",
   "metadata": {},
   "outputs": [],
   "source": [
    "games_df.loc[games_df['result']=='loss']"
   ]
  },
  {
   "cell_type": "code",
   "execution_count": null,
   "id": "0ac2e5f6",
   "metadata": {},
   "outputs": [],
   "source": [
    "game = read_pgn(games_lst[12])\n",
    "game_eval = games_df.iloc[12]\n",
    "play_game(game)\n",
    "\n",
    "plt.figure()\n",
    "plt.plot(game_eval)\n",
    "plt.show()"
   ]
  },
  {
   "cell_type": "markdown",
   "id": "bbd41456",
   "metadata": {},
   "source": [
    "## Code snippets to look into data returned by API"
   ]
  },
  {
   "cell_type": "code",
   "execution_count": null,
   "id": "92a96362",
   "metadata": {},
   "outputs": [],
   "source": [
    "for k in range(len(a)):\n",
    "    if a[k]['players'][color]['user']['name']!='miguel0f':\n",
    "        print('ahahah')"
   ]
  }
 ],
 "metadata": {
  "kernelspec": {
   "display_name": "Python 3",
   "language": "python",
   "name": "python3"
  },
  "language_info": {
   "codemirror_mode": {
    "name": "ipython",
    "version": 3
   },
   "file_extension": ".py",
   "mimetype": "text/x-python",
   "name": "python",
   "nbconvert_exporter": "python",
   "pygments_lexer": "ipython3",
   "version": "3.9.4"
  },
  "toc": {
   "base_numbering": 1,
   "nav_menu": {},
   "number_sections": true,
   "sideBar": true,
   "skip_h1_title": false,
   "title_cell": "Table of Contents",
   "title_sidebar": "Contents",
   "toc_cell": false,
   "toc_position": {
    "height": "calc(100% - 180px)",
    "left": "10px",
    "top": "150px",
    "width": "165px"
   },
   "toc_section_display": true,
   "toc_window_display": true
  },
  "vscode": {
   "interpreter": {
    "hash": "d34245ff8f6cf314afad44e3eb7100450c32e2c643c9cacbd0eef7db62406397"
   }
  }
 },
 "nbformat": 4,
 "nbformat_minor": 5
}
