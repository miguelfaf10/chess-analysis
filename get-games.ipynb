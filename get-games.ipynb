{
 "cells": [
  {
   "cell_type": "code",
   "execution_count": 1,
   "id": "df24d44c",
   "metadata": {},
   "outputs": [],
   "source": [
    "import io\n",
    "from datetime import datetime, timedelta\n",
    "from pydantic import BaseModel\n",
    "from time import sleep"
   ]
  },
  {
   "cell_type": "code",
   "execution_count": 2,
   "id": "574f9a50",
   "metadata": {},
   "outputs": [],
   "source": [
    "from IPython.display import clear_output\n",
    "import matplotlib.pyplot as plt\n",
    "import pandas as pd"
   ]
  },
  {
   "cell_type": "code",
   "execution_count": 3,
   "id": "89fa5464",
   "metadata": {},
   "outputs": [],
   "source": [
    "import berserk\n",
    "import chess, chess.pgn"
   ]
  },
  {
   "cell_type": "markdown",
   "id": "8f790c8c",
   "metadata": {},
   "source": [
    "## Functions"
   ]
  },
  {
   "cell_type": "code",
   "execution_count": 4,
   "id": "57493125",
   "metadata": {},
   "outputs": [],
   "source": [
    "# Read PGN string into python-chess object\n",
    "def read_pgn(game_str):\n",
    "    pgn = io.StringIO(game_str)\n",
    "    game = chess.pgn.read_game(pgn)\n",
    "    return game"
   ]
  },
  {
   "cell_type": "code",
   "execution_count": 5,
   "id": "dfc77f28",
   "metadata": {},
   "outputs": [],
   "source": [
    "# Read python-chess object, play and display it in them on a board.\n",
    "def play_game(game):\n",
    "    board = game.board()\n",
    "    for move in game.mainline_moves():\n",
    "        clear_output(wait=True)\n",
    "        print(board)\n",
    "        board.push(move)\n",
    "        sleep(1)"
   ]
  },
  {
   "cell_type": "code",
   "execution_count": 188,
   "id": "00fe6b60",
   "metadata": {},
   "outputs": [],
   "source": [
    "# Function that returns list of position evaluations for entire game.\n",
    "# Scores are in centipawn and from White perspective\n",
    "# If value is None it's because engine saw checkmate in #n\n",
    "def read_evals(game):\n",
    "\n",
    "    eval_lst = []\n",
    "    for node in game.mainline():\n",
    "        if node.eval() != None:\n",
    "            eval_lst.append(node.eval().white().score())\n",
    "\n",
    "    return eval_lst\n",
    "\n",
    "def read_moves(game):\n",
    "    \n",
    "    move_lst = [str(node.san()) for node in game.mainline()]\n",
    "    return(move_lst)\n",
    "\n",
    "def read_game_eval_recursive(game_node):\n",
    "    \n",
    "    if game_node.is_end():\n",
    "        print(game_node.eval())\n",
    "        return [None]\n",
    "    else:\n",
    "        if game_node.eval()!=None:\n",
    "            return [game_node.eval().white().score()] + read_game_eval(game_node[0])\n",
    "        else:\n",
    "            return read_game_eval(game_node[0])   "
   ]
  },
  {
   "cell_type": "markdown",
   "id": "ddc8fcbc",
   "metadata": {},
   "source": [
    "## API session setup using berserk"
   ]
  },
  {
   "cell_type": "code",
   "execution_count": 11,
   "id": "133b91fa",
   "metadata": {},
   "outputs": [],
   "source": [
    "with open('./token.txt') as f:\n",
    "    API_TOKEN = f.readline()[:-1]"
   ]
  },
  {
   "cell_type": "code",
   "execution_count": 12,
   "id": "27bfff30",
   "metadata": {},
   "outputs": [],
   "source": [
    "session = berserk.TokenSession(API_TOKEN)\n",
    "client = berserk.Client(session=session)\n",
    "user_lichess = 'miguel0f'"
   ]
  },
  {
   "cell_type": "markdown",
   "id": "d74ab50d",
   "metadata": {},
   "source": [
    "## API game request settings"
   ]
  },
  {
   "cell_type": "code",
   "execution_count": 227,
   "id": "e6048729",
   "metadata": {},
   "outputs": [
    {
     "data": {
      "text/plain": [
       "184"
      ]
     },
     "execution_count": 227,
     "metadata": {},
     "output_type": "execute_result"
    }
   ],
   "source": [
    "len(games_lst)"
   ]
  },
  {
   "cell_type": "code",
   "execution_count": 13,
   "id": "8a6a75b8",
   "metadata": {},
   "outputs": [],
   "source": [
    "last_Xdays = datetime.now()-timedelta(days=100)"
   ]
  },
  {
   "cell_type": "code",
   "execution_count": 81,
   "id": "89946666",
   "metadata": {},
   "outputs": [],
   "source": [
    "user = 'miguel0f'\n",
    "since = int(berserk.utils.to_millis(last_Xdays))\n",
    "until = int(berserk.utils.to_millis(datetime.now()))\n",
    "color = 'black'\n",
    "as_pgn = True\n",
    "analysed = True\n",
    "evals = True\n",
    "opening = True"
   ]
  },
  {
   "cell_type": "code",
   "execution_count": 194,
   "id": "54dfb358",
   "metadata": {},
   "outputs": [],
   "source": [
    "games_gen = client.games.export_by_player('miguel0f',\n",
    "                                    since=since,\n",
    "                                    as_pgn=as_pgn,\n",
    "                                    analysed=analysed,\n",
    "                                    evals=evals,\n",
    "                                    opening=opening)\n",
    "\n",
    "games_lst = [game for game in games_gen]"
   ]
  },
  {
   "cell_type": "code",
   "execution_count": 228,
   "id": "4b819d84",
   "metadata": {},
   "outputs": [],
   "source": [
    "games_df = {'lichess_id': [],\n",
    "            'opening': [],\n",
    "            'color':    [],\n",
    "            'result':  [],\n",
    "            'time':    [],\n",
    "            'moves':   [],\n",
    "            'evals':    [],\n",
    "           'oponent': []}\n",
    "\n",
    "for game in games_lst:   \n",
    "    \n",
    "    game_pgn = read_pgn(game)\n",
    "    \n",
    "    if game_pgn==None:\n",
    "        break\n",
    "    \n",
    "    games_df['lichess_id'].append(game_pgn.headers['Site'][20:])\n",
    "    \n",
    "    games_df['opening'].append(game_pgn.headers['Opening'])\n",
    "    games_df['color'].append('white' if game_pgn.headers['White']==user_lichess else 'black')\n",
    "    \n",
    "    if  game_pgn.headers['Result']=='1/2-1/2':\n",
    "        games_df['result'].append('draw')\n",
    "    elif game_pgn.headers['Result']=='1-0' and game_pgn.headers['White']==user_lichess:\n",
    "        games_df['result'].append('win')\n",
    "    elif game_pgn.headers['Result']=='0-1' and game_pgn.headers['Black']==user_lichess:\n",
    "        games_df['result'].append('win')\n",
    "    else:\n",
    "        games_df['result'].append('loss')\n",
    "    \n",
    "    games_df['time'].append(game_pgn.headers['TimeControl'])\n",
    "    \n",
    "    games_df['moves'].append(read_moves(game_pgn))\n",
    "    games_df['evals'].append(read_evals(game_pgn))\n",
    "    \n",
    "    if game_pgn.headers['White']==user_lichess:\n",
    "        games_df['oponent'].append(game_pgn.headers['Black'])\n",
    "    else:\n",
    "        games_df['oponent'].append(game_pgn.headers['White'])\n",
    "    \n",
    "games_df = pd.DataFrame.from_dict(games_df, orient='columns')"
   ]
  },
  {
   "cell_type": "code",
   "execution_count": 229,
   "id": "49249cab",
   "metadata": {},
   "outputs": [
    {
     "data": {
      "text/plain": [
       "loss    94\n",
       "win     86\n",
       "draw     4\n",
       "Name: result, dtype: int64"
      ]
     },
     "execution_count": 229,
     "metadata": {},
     "output_type": "execute_result"
    }
   ],
   "source": [
    "games_df['result'].value_counts()"
   ]
  },
  {
   "cell_type": "code",
   "execution_count": 223,
   "id": "9a0469ec",
   "metadata": {},
   "outputs": [
    {
     "data": {
      "text/html": [
       "<div>\n",
       "<style scoped>\n",
       "    .dataframe tbody tr th:only-of-type {\n",
       "        vertical-align: middle;\n",
       "    }\n",
       "\n",
       "    .dataframe tbody tr th {\n",
       "        vertical-align: top;\n",
       "    }\n",
       "\n",
       "    .dataframe thead th {\n",
       "        text-align: right;\n",
       "    }\n",
       "</style>\n",
       "<table border=\"1\" class=\"dataframe\">\n",
       "  <thead>\n",
       "    <tr style=\"text-align: right;\">\n",
       "      <th></th>\n",
       "      <th>lichess_id</th>\n",
       "      <th>opening</th>\n",
       "      <th>color</th>\n",
       "      <th>result</th>\n",
       "      <th>time</th>\n",
       "      <th>moves</th>\n",
       "      <th>evals</th>\n",
       "      <th>oponent</th>\n",
       "    </tr>\n",
       "  </thead>\n",
       "  <tbody>\n",
       "    <tr>\n",
       "      <th>1</th>\n",
       "      <td>5upFAHQK</td>\n",
       "      <td>Englund Gambit Complex: Hartlaub-Charlick Gambit</td>\n",
       "      <td>black</td>\n",
       "      <td>loss</td>\n",
       "      <td>900+5</td>\n",
       "      <td>[d4, e5, dxe5, d6, exd6, Bxd6, e3, Nc6, Nc3, Q...</td>\n",
       "      <td>[0, 174, 144, 146, 117, 162, 95, 89, 95, 100, ...</td>\n",
       "      <td>igood_kz</td>\n",
       "    </tr>\n",
       "    <tr>\n",
       "      <th>2</th>\n",
       "      <td>cc981H5L</td>\n",
       "      <td>Elephant Gambit</td>\n",
       "      <td>black</td>\n",
       "      <td>loss</td>\n",
       "      <td>900+30</td>\n",
       "      <td>[e4, e5, Nf3, d5, Nxe5, dxe4, Qe2, Nf6, Nc3, B...</td>\n",
       "      <td>[33, 12, 19, 123, 76, 82, 0, 28, -13, 25, -64,...</td>\n",
       "      <td>RoyStorey</td>\n",
       "    </tr>\n",
       "    <tr>\n",
       "      <th>3</th>\n",
       "      <td>TYfBJ0VR</td>\n",
       "      <td>Scandinavian Defense: Main Line</td>\n",
       "      <td>white</td>\n",
       "      <td>loss</td>\n",
       "      <td>900+30</td>\n",
       "      <td>[e4, d5, exd5, Qxd5, Nc3, Qa5, Nf3, Nf6, d4, c...</td>\n",
       "      <td>[33, 82, 66, 75, 71, 63, 57, 75, 80, 70, 49, 1...</td>\n",
       "      <td>wwweniy</td>\n",
       "    </tr>\n",
       "    <tr>\n",
       "      <th>4</th>\n",
       "      <td>J18cNKZ7</td>\n",
       "      <td>Elephant Gambit: Paulsen Countergambit</td>\n",
       "      <td>black</td>\n",
       "      <td>loss</td>\n",
       "      <td>600+5</td>\n",
       "      <td>[e4, e5, Nf3, d5, exd5, e4, Qe2, Nf6, Nc3, Be7...</td>\n",
       "      <td>[33, 12, 19, 123, 130, 140, 136, 119, 95, 138,...</td>\n",
       "      <td>Shura73</td>\n",
       "    </tr>\n",
       "    <tr>\n",
       "      <th>6</th>\n",
       "      <td>JGLFwxP1</td>\n",
       "      <td>Scotch Game</td>\n",
       "      <td>white</td>\n",
       "      <td>loss</td>\n",
       "      <td>600+5</td>\n",
       "      <td>[e4, e5, Nf3, Nc6, d4, d6, Bc4, h6, O-O, Bg4, ...</td>\n",
       "      <td>[33, 12, 19, 32, 13, 97, 28, 99, 85, 134, -125...</td>\n",
       "      <td>joker007stcherek</td>\n",
       "    </tr>\n",
       "    <tr>\n",
       "      <th>...</th>\n",
       "      <td>...</td>\n",
       "      <td>...</td>\n",
       "      <td>...</td>\n",
       "      <td>...</td>\n",
       "      <td>...</td>\n",
       "      <td>...</td>\n",
       "      <td>...</td>\n",
       "      <td>...</td>\n",
       "    </tr>\n",
       "    <tr>\n",
       "      <th>178</th>\n",
       "      <td>fQMO9TnH</td>\n",
       "      <td>Elephant Gambit: Paulsen Countergambit</td>\n",
       "      <td>black</td>\n",
       "      <td>loss</td>\n",
       "      <td>1800+0</td>\n",
       "      <td>[e4, e5, Nf3, d5, exd5, e4, Ne5, Qxd5, Nc4, Nf...</td>\n",
       "      <td>[33, 12, 19, 123, 130, 140, 20, 23, -2, 0, -82...</td>\n",
       "      <td>driss66</td>\n",
       "    </tr>\n",
       "    <tr>\n",
       "      <th>179</th>\n",
       "      <td>R0szawvJ</td>\n",
       "      <td>Sicilian Defense: Smith-Morra Gambit</td>\n",
       "      <td>white</td>\n",
       "      <td>loss</td>\n",
       "      <td>2700+30</td>\n",
       "      <td>[e4, c5, d4, b6, Nf3, Nf6, Nc3, Bb7, Qd3, Nc6,...</td>\n",
       "      <td>[33, 32, 0, 167, 82, 216, 96, 128, 109, 275, 0...</td>\n",
       "      <td>bacco1966</td>\n",
       "    </tr>\n",
       "    <tr>\n",
       "      <th>180</th>\n",
       "      <td>s7dNRgAM</td>\n",
       "      <td>Elephant Gambit: Paulsen Countergambit</td>\n",
       "      <td>black</td>\n",
       "      <td>loss</td>\n",
       "      <td>7200+20</td>\n",
       "      <td>[e4, e5, Nf3, d5, exd5, e4, Ne5, Qxd5, Ng4, Bc...</td>\n",
       "      <td>[33, 12, 19, 123, 130, 140, 20, 52, -65, 5, -3...</td>\n",
       "      <td>klyushonok</td>\n",
       "    </tr>\n",
       "    <tr>\n",
       "      <th>181</th>\n",
       "      <td>fhojTjMQ</td>\n",
       "      <td>Elephant Gambit</td>\n",
       "      <td>black</td>\n",
       "      <td>loss</td>\n",
       "      <td>7200+20</td>\n",
       "      <td>[e4, e5, Nf3, d5, Nxe5, dxe4, d3, Bd6, Bf4, Qe...</td>\n",
       "      <td>[33, 12, 19, 123, 76, 82, 13, 52, -319, -41, -...</td>\n",
       "      <td>Ahmdjokar_1402</td>\n",
       "    </tr>\n",
       "    <tr>\n",
       "      <th>183</th>\n",
       "      <td>PPkjLVIl</td>\n",
       "      <td>Elephant Gambit: Paulsen Countergambit</td>\n",
       "      <td>black</td>\n",
       "      <td>loss</td>\n",
       "      <td>600+5</td>\n",
       "      <td>[e4, e5, Nf3, d5, exd5, e4, Qe2, Nf6, Nc3, Be7...</td>\n",
       "      <td>[33, 12, 19, 123, 130, 140, 136, 119, 95, 138,...</td>\n",
       "      <td>bante1941</td>\n",
       "    </tr>\n",
       "  </tbody>\n",
       "</table>\n",
       "<p>132 rows × 8 columns</p>\n",
       "</div>"
      ],
      "text/plain": [
       "    lichess_id                                           opening  color  \\\n",
       "1     5upFAHQK  Englund Gambit Complex: Hartlaub-Charlick Gambit  black   \n",
       "2     cc981H5L                                   Elephant Gambit  black   \n",
       "3     TYfBJ0VR                   Scandinavian Defense: Main Line  white   \n",
       "4     J18cNKZ7            Elephant Gambit: Paulsen Countergambit  black   \n",
       "6     JGLFwxP1                                       Scotch Game  white   \n",
       "..         ...                                               ...    ...   \n",
       "178   fQMO9TnH            Elephant Gambit: Paulsen Countergambit  black   \n",
       "179   R0szawvJ              Sicilian Defense: Smith-Morra Gambit  white   \n",
       "180   s7dNRgAM            Elephant Gambit: Paulsen Countergambit  black   \n",
       "181   fhojTjMQ                                   Elephant Gambit  black   \n",
       "183   PPkjLVIl            Elephant Gambit: Paulsen Countergambit  black   \n",
       "\n",
       "    result     time                                              moves  \\\n",
       "1     loss    900+5  [d4, e5, dxe5, d6, exd6, Bxd6, e3, Nc6, Nc3, Q...   \n",
       "2     loss   900+30  [e4, e5, Nf3, d5, Nxe5, dxe4, Qe2, Nf6, Nc3, B...   \n",
       "3     loss   900+30  [e4, d5, exd5, Qxd5, Nc3, Qa5, Nf3, Nf6, d4, c...   \n",
       "4     loss    600+5  [e4, e5, Nf3, d5, exd5, e4, Qe2, Nf6, Nc3, Be7...   \n",
       "6     loss    600+5  [e4, e5, Nf3, Nc6, d4, d6, Bc4, h6, O-O, Bg4, ...   \n",
       "..     ...      ...                                                ...   \n",
       "178   loss   1800+0  [e4, e5, Nf3, d5, exd5, e4, Ne5, Qxd5, Nc4, Nf...   \n",
       "179   loss  2700+30  [e4, c5, d4, b6, Nf3, Nf6, Nc3, Bb7, Qd3, Nc6,...   \n",
       "180   loss  7200+20  [e4, e5, Nf3, d5, exd5, e4, Ne5, Qxd5, Ng4, Bc...   \n",
       "181   loss  7200+20  [e4, e5, Nf3, d5, Nxe5, dxe4, d3, Bd6, Bf4, Qe...   \n",
       "183   loss    600+5  [e4, e5, Nf3, d5, exd5, e4, Qe2, Nf6, Nc3, Be7...   \n",
       "\n",
       "                                                 evals           oponent  \n",
       "1    [0, 174, 144, 146, 117, 162, 95, 89, 95, 100, ...          igood_kz  \n",
       "2    [33, 12, 19, 123, 76, 82, 0, 28, -13, 25, -64,...         RoyStorey  \n",
       "3    [33, 82, 66, 75, 71, 63, 57, 75, 80, 70, 49, 1...           wwweniy  \n",
       "4    [33, 12, 19, 123, 130, 140, 136, 119, 95, 138,...           Shura73  \n",
       "6    [33, 12, 19, 32, 13, 97, 28, 99, 85, 134, -125...  joker007stcherek  \n",
       "..                                                 ...               ...  \n",
       "178  [33, 12, 19, 123, 130, 140, 20, 23, -2, 0, -82...           driss66  \n",
       "179  [33, 32, 0, 167, 82, 216, 96, 128, 109, 275, 0...         bacco1966  \n",
       "180  [33, 12, 19, 123, 130, 140, 20, 52, -65, 5, -3...        klyushonok  \n",
       "181  [33, 12, 19, 123, 76, 82, 13, 52, -319, -41, -...    Ahmdjokar_1402  \n",
       "183  [33, 12, 19, 123, 130, 140, 136, 119, 95, 138,...         bante1941  \n",
       "\n",
       "[132 rows x 8 columns]"
      ]
     },
     "execution_count": 223,
     "metadata": {},
     "output_type": "execute_result"
    }
   ],
   "source": [
    "games_df.loc[games_df['result']=='loss']"
   ]
  },
  {
   "cell_type": "code",
   "execution_count": 196,
   "id": "0ac2e5f6",
   "metadata": {},
   "outputs": [
    {
     "name": "stdout",
     "output_type": "stream",
     "text": [
      "r n b q k b n r\n",
      "p p p . . p p p\n",
      ". . . p p . . .\n",
      ". . . . . . . .\n",
      ". . . P P . . .\n",
      ". . . . . . . .\n",
      "P P P . . P P P\n",
      "R N B Q K B N R\n"
     ]
    },
    {
     "ename": "KeyboardInterrupt",
     "evalue": "",
     "output_type": "error",
     "traceback": [
      "\u001b[0;31m---------------------------------------------------------------------------\u001b[0m",
      "\u001b[0;31mKeyboardInterrupt\u001b[0m                         Traceback (most recent call last)",
      "\u001b[0;32m<ipython-input-196-ce0ddcfaa61d>\u001b[0m in \u001b[0;36m<module>\u001b[0;34m\u001b[0m\n\u001b[1;32m      1\u001b[0m \u001b[0mgame\u001b[0m \u001b[0;34m=\u001b[0m \u001b[0mread_pgn\u001b[0m\u001b[0;34m(\u001b[0m\u001b[0mgames_lst\u001b[0m\u001b[0;34m[\u001b[0m\u001b[0;36m12\u001b[0m\u001b[0;34m]\u001b[0m\u001b[0;34m)\u001b[0m\u001b[0;34m\u001b[0m\u001b[0;34m\u001b[0m\u001b[0m\n\u001b[1;32m      2\u001b[0m \u001b[0mgame_eval\u001b[0m \u001b[0;34m=\u001b[0m \u001b[0mgames_df\u001b[0m\u001b[0;34m.\u001b[0m\u001b[0miloc\u001b[0m\u001b[0;34m[\u001b[0m\u001b[0;36m12\u001b[0m\u001b[0;34m]\u001b[0m\u001b[0;34m\u001b[0m\u001b[0;34m\u001b[0m\u001b[0m\n\u001b[0;32m----> 3\u001b[0;31m \u001b[0mplay_game\u001b[0m\u001b[0;34m(\u001b[0m\u001b[0mgame\u001b[0m\u001b[0;34m)\u001b[0m\u001b[0;34m\u001b[0m\u001b[0;34m\u001b[0m\u001b[0m\n\u001b[0m\u001b[1;32m      4\u001b[0m \u001b[0;34m\u001b[0m\u001b[0m\n\u001b[1;32m      5\u001b[0m \u001b[0mplt\u001b[0m\u001b[0;34m.\u001b[0m\u001b[0mfigure\u001b[0m\u001b[0;34m(\u001b[0m\u001b[0;34m)\u001b[0m\u001b[0;34m\u001b[0m\u001b[0;34m\u001b[0m\u001b[0m\n",
      "\u001b[0;32m<ipython-input-5-40ba2d0c107f>\u001b[0m in \u001b[0;36mplay_game\u001b[0;34m(game)\u001b[0m\n\u001b[1;32m      6\u001b[0m         \u001b[0mprint\u001b[0m\u001b[0;34m(\u001b[0m\u001b[0mboard\u001b[0m\u001b[0;34m)\u001b[0m\u001b[0;34m\u001b[0m\u001b[0;34m\u001b[0m\u001b[0m\n\u001b[1;32m      7\u001b[0m         \u001b[0mboard\u001b[0m\u001b[0;34m.\u001b[0m\u001b[0mpush\u001b[0m\u001b[0;34m(\u001b[0m\u001b[0mmove\u001b[0m\u001b[0;34m)\u001b[0m\u001b[0;34m\u001b[0m\u001b[0;34m\u001b[0m\u001b[0m\n\u001b[0;32m----> 8\u001b[0;31m         \u001b[0msleep\u001b[0m\u001b[0;34m(\u001b[0m\u001b[0;36m1\u001b[0m\u001b[0;34m)\u001b[0m\u001b[0;34m\u001b[0m\u001b[0;34m\u001b[0m\u001b[0m\n\u001b[0m",
      "\u001b[0;31mKeyboardInterrupt\u001b[0m: "
     ]
    }
   ],
   "source": [
    "game = read_pgn(games_lst[12])\n",
    "game_eval = games_df.iloc[12]\n",
    "play_game(game)\n",
    "\n",
    "plt.figure()\n",
    "plt.plot(game_eval)\n",
    "plt.show()"
   ]
  },
  {
   "cell_type": "markdown",
   "id": "bbd41456",
   "metadata": {},
   "source": [
    "## Code snippets to look into data returned by API"
   ]
  },
  {
   "cell_type": "code",
   "execution_count": null,
   "id": "92a96362",
   "metadata": {},
   "outputs": [],
   "source": [
    "for k in range(len(a)):\n",
    "    if a[k]['players'][color]['user']['name']!='miguel0f':\n",
    "        print('ahahah')"
   ]
  }
 ],
 "metadata": {
  "kernelspec": {
   "display_name": "Python 3",
   "language": "python",
   "name": "python3"
  },
  "language_info": {
   "codemirror_mode": {
    "name": "ipython",
    "version": 3
   },
   "file_extension": ".py",
   "mimetype": "text/x-python",
   "name": "python",
   "nbconvert_exporter": "python",
   "pygments_lexer": "ipython3",
   "version": "3.9.4"
  },
  "toc": {
   "base_numbering": 1,
   "nav_menu": {},
   "number_sections": true,
   "sideBar": true,
   "skip_h1_title": false,
   "title_cell": "Table of Contents",
   "title_sidebar": "Contents",
   "toc_cell": false,
   "toc_position": {
    "height": "calc(100% - 180px)",
    "left": "10px",
    "top": "150px",
    "width": "165px"
   },
   "toc_section_display": true,
   "toc_window_display": true
  }
 },
 "nbformat": 4,
 "nbformat_minor": 5
}
